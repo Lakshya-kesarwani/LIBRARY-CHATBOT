{
 "cells": [
  {
   "cell_type": "code",
   "execution_count": 2,
   "metadata": {},
   "outputs": [
    {
     "name": "stdout",
     "output_type": "stream",
     "text": [
      "  Intern ID             Full Name  Project Code\n",
      "0      SRIP        2025: SELECTED       INTERNS\n",
      "1    Intern  ID Full Name Project          Code\n",
      "2  21898373    A S Aravinthakshan  IP0VM0000003\n",
      "3  21928832  Aariya Dhanaseelan C  IP0CA0000006\n",
      "4  21873538      Aarthi Venkatesh  IP0LL0000015\n"
     ]
    }
   ],
   "source": [
    "import pandas as pd\n",
    "df = pd.read_csv(\"SRIP_Results_2025.csv\")\n",
    "print(df.head())"
   ]
  },
  {
   "cell_type": "code",
   "execution_count": 9,
   "metadata": {},
   "outputs": [],
   "source": [
    "df_grouped = df.groupby([\"Full Name\"])[\"Project Code\"].count().reset_index()\n",
    "\n",
    "# Get the intern with the maximum projects\n",
    "top_intern = df_grouped.loc[df_grouped[\"Project Code\"].idxmax()]"
   ]
  },
  {
   "cell_type": "code",
   "execution_count": 11,
   "metadata": {},
   "outputs": [
    {
     "data": {
      "text/html": [
       "<div>\n",
       "<style scoped>\n",
       "    .dataframe tbody tr th:only-of-type {\n",
       "        vertical-align: middle;\n",
       "    }\n",
       "\n",
       "    .dataframe tbody tr th {\n",
       "        vertical-align: top;\n",
       "    }\n",
       "\n",
       "    .dataframe thead th {\n",
       "        text-align: right;\n",
       "    }\n",
       "</style>\n",
       "<table border=\"1\" class=\"dataframe\">\n",
       "  <thead>\n",
       "    <tr style=\"text-align: right;\">\n",
       "      <th></th>\n",
       "      <th>Intern ID</th>\n",
       "      <th>Full Name</th>\n",
       "      <th>Project Code</th>\n",
       "    </tr>\n",
       "  </thead>\n",
       "  <tbody>\n",
       "    <tr>\n",
       "      <th>84</th>\n",
       "      <td>21951426</td>\n",
       "      <td>Kshitij Suresh Giri</td>\n",
       "      <td>IP0ALC0000013</td>\n",
       "    </tr>\n",
       "    <tr>\n",
       "      <th>85</th>\n",
       "      <td>21951826</td>\n",
       "      <td>Kshitij Suresh Giri</td>\n",
       "      <td>IP0HS0200001</td>\n",
       "    </tr>\n",
       "    <tr>\n",
       "      <th>86</th>\n",
       "      <td>21952115</td>\n",
       "      <td>Kshitij Suresh Giri</td>\n",
       "      <td>IP000002</td>\n",
       "    </tr>\n",
       "  </tbody>\n",
       "</table>\n",
       "</div>"
      ],
      "text/plain": [
       "   Intern ID            Full Name   Project Code\n",
       "84  21951426  Kshitij Suresh Giri  IP0ALC0000013\n",
       "85  21951826  Kshitij Suresh Giri   IP0HS0200001\n",
       "86  21952115  Kshitij Suresh Giri       IP000002"
      ]
     },
     "execution_count": 11,
     "metadata": {},
     "output_type": "execute_result"
    }
   ],
   "source": [
    "df[df['Full Name']==\"Kshitij Suresh Giri\"]"
   ]
  },
  {
   "cell_type": "code",
   "execution_count": null,
   "metadata": {},
   "outputs": [],
   "source": [
    "df = pd.DataFrame(df, columns=[\"Full Name\", \"Project Code\"])\n",
    "\n",
    "# Group by Full Name and count projects\n",
    "df_grouped = df.groupby(\"Full Name\").count().reset_index()\n",
    "print\n",
    "# Rename columns for clarity\n",
    "df_grouped.columns = [\"Full Name\", \"Total Projects\"]\n",
    "\n",
    "# Sort by project count in descending order\n",
    "df_sorted = df_grouped.sort_values(by=\"Total Projects\", ascending=False)\n"
   ]
  },
  {
   "cell_type": "code",
   "execution_count": 16,
   "metadata": {},
   "outputs": [
    {
     "data": {
      "text/html": [
       "<div>\n",
       "<style scoped>\n",
       "    .dataframe tbody tr th:only-of-type {\n",
       "        vertical-align: middle;\n",
       "    }\n",
       "\n",
       "    .dataframe tbody tr th {\n",
       "        vertical-align: top;\n",
       "    }\n",
       "\n",
       "    .dataframe thead th {\n",
       "        text-align: right;\n",
       "    }\n",
       "</style>\n",
       "<table border=\"1\" class=\"dataframe\">\n",
       "  <thead>\n",
       "    <tr style=\"text-align: right;\">\n",
       "      <th></th>\n",
       "      <th>Full Name</th>\n",
       "      <th>Project Code</th>\n",
       "    </tr>\n",
       "  </thead>\n",
       "  <tbody>\n",
       "    <tr>\n",
       "      <th>0</th>\n",
       "      <td>2025: SELECTED</td>\n",
       "      <td>INTERNS</td>\n",
       "    </tr>\n",
       "    <tr>\n",
       "      <th>1</th>\n",
       "      <td>ID Full Name Project</td>\n",
       "      <td>Code</td>\n",
       "    </tr>\n",
       "    <tr>\n",
       "      <th>2</th>\n",
       "      <td>A S Aravinthakshan</td>\n",
       "      <td>IP0VM0000003</td>\n",
       "    </tr>\n",
       "    <tr>\n",
       "      <th>3</th>\n",
       "      <td>Aariya Dhanaseelan C</td>\n",
       "      <td>IP0CA0000006</td>\n",
       "    </tr>\n",
       "    <tr>\n",
       "      <th>4</th>\n",
       "      <td>Aarthi Venkatesh</td>\n",
       "      <td>IP0LL0000015</td>\n",
       "    </tr>\n",
       "    <tr>\n",
       "      <th>...</th>\n",
       "      <td>...</td>\n",
       "      <td>...</td>\n",
       "    </tr>\n",
       "    <tr>\n",
       "      <th>206</th>\n",
       "      <td>Yashvardhan Soni</td>\n",
       "      <td>IP0MK0000012</td>\n",
       "    </tr>\n",
       "    <tr>\n",
       "      <th>207</th>\n",
       "      <td>Yug Desai</td>\n",
       "      <td>IP0HPM0000007</td>\n",
       "    </tr>\n",
       "    <tr>\n",
       "      <th>208</th>\n",
       "      <td>Yuvraj Motiramani</td>\n",
       "      <td>IP0RH0000009</td>\n",
       "    </tr>\n",
       "    <tr>\n",
       "      <th>209</th>\n",
       "      <td></td>\n",
       "      <td></td>\n",
       "    </tr>\n",
       "    <tr>\n",
       "      <th>210</th>\n",
       "      <td>Us:</td>\n",
       "      <td>internships@iitgn.ac.in</td>\n",
       "    </tr>\n",
       "  </tbody>\n",
       "</table>\n",
       "<p>211 rows × 2 columns</p>\n",
       "</div>"
      ],
      "text/plain": [
       "                Full Name             Project Code\n",
       "0          2025: SELECTED                  INTERNS\n",
       "1    ID Full Name Project                     Code\n",
       "2      A S Aravinthakshan             IP0VM0000003\n",
       "3    Aariya Dhanaseelan C             IP0CA0000006\n",
       "4        Aarthi Venkatesh             IP0LL0000015\n",
       "..                    ...                      ...\n",
       "206      Yashvardhan Soni             IP0MK0000012\n",
       "207             Yug Desai            IP0HPM0000007\n",
       "208     Yuvraj Motiramani             IP0RH0000009\n",
       "209                                           \n",
       "210                   Us:  internships@iitgn.ac.in\n",
       "\n",
       "[211 rows x 2 columns]"
      ]
     },
     "execution_count": 16,
     "metadata": {},
     "output_type": "execute_result"
    }
   ],
   "source": [
    "df"
   ]
  },
  {
   "cell_type": "code",
   "execution_count": 19,
   "metadata": {},
   "outputs": [
    {
     "data": {
      "text/html": [
       "<div>\n",
       "<style scoped>\n",
       "    .dataframe tbody tr th:only-of-type {\n",
       "        vertical-align: middle;\n",
       "    }\n",
       "\n",
       "    .dataframe tbody tr th {\n",
       "        vertical-align: top;\n",
       "    }\n",
       "\n",
       "    .dataframe thead th {\n",
       "        text-align: right;\n",
       "    }\n",
       "</style>\n",
       "<table border=\"1\" class=\"dataframe\">\n",
       "  <thead>\n",
       "    <tr style=\"text-align: right;\">\n",
       "      <th></th>\n",
       "      <th>Full Name</th>\n",
       "      <th>Total Projects</th>\n",
       "    </tr>\n",
       "  </thead>\n",
       "  <tbody>\n",
       "    <tr>\n",
       "      <th>65</th>\n",
       "      <td>Goral Mashru</td>\n",
       "      <td>2</td>\n",
       "    </tr>\n",
       "    <tr>\n",
       "      <th>193</th>\n",
       "      <td>Yash Choudhary</td>\n",
       "      <td>2</td>\n",
       "    </tr>\n",
       "    <tr>\n",
       "      <th>180</th>\n",
       "      <td>Tanishi Das</td>\n",
       "      <td>2</td>\n",
       "    </tr>\n",
       "    <tr>\n",
       "      <th>169</th>\n",
       "      <td>Soham Ashish Gaonkar</td>\n",
       "      <td>2</td>\n",
       "    </tr>\n",
       "    <tr>\n",
       "      <th>158</th>\n",
       "      <td>Shihora Vansh Bhaveshkumar</td>\n",
       "      <td>2</td>\n",
       "    </tr>\n",
       "    <tr>\n",
       "      <th>116</th>\n",
       "      <td>Pendse Chinmay Sameer</td>\n",
       "      <td>2</td>\n",
       "    </tr>\n",
       "    <tr>\n",
       "      <th>90</th>\n",
       "      <td>Madhavi Nibauria</td>\n",
       "      <td>2</td>\n",
       "    </tr>\n",
       "    <tr>\n",
       "      <th>32</th>\n",
       "      <td>Anurag Singh</td>\n",
       "      <td>2</td>\n",
       "    </tr>\n",
       "  </tbody>\n",
       "</table>\n",
       "</div>"
      ],
      "text/plain": [
       "                      Full Name  Total Projects\n",
       "65                 Goral Mashru               2\n",
       "193              Yash Choudhary               2\n",
       "180                 Tanishi Das               2\n",
       "169        Soham Ashish Gaonkar               2\n",
       "158  Shihora Vansh Bhaveshkumar               2\n",
       "116       Pendse Chinmay Sameer               2\n",
       "90             Madhavi Nibauria               2\n",
       "32                 Anurag Singh               2"
      ]
     },
     "execution_count": 19,
     "metadata": {},
     "output_type": "execute_result"
    }
   ],
   "source": [
    "df_sorted[df_sorted[\"Total Projects\"] == 2]"
   ]
  },
  {
   "cell_type": "code",
   "execution_count": null,
   "metadata": {},
   "outputs": [],
   "source": []
  }
 ],
 "metadata": {
  "kernelspec": {
   "display_name": "Python 3",
   "language": "python",
   "name": "python3"
  },
  "language_info": {
   "codemirror_mode": {
    "name": "ipython",
    "version": 3
   },
   "file_extension": ".py",
   "mimetype": "text/x-python",
   "name": "python",
   "nbconvert_exporter": "python",
   "pygments_lexer": "ipython3",
   "version": "3.13.0"
  }
 },
 "nbformat": 4,
 "nbformat_minor": 2
}
